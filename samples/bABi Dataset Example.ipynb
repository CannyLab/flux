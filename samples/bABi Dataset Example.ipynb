{
 "cells": [
  {
   "cell_type": "markdown",
   "metadata": {},
   "source": [
    "# bAbI "
   ]
  },
  {
   "cell_type": "markdown",
   "metadata": {},
   "source": [
    "### Original Link:  https://research.fb.com/downloads/babi/"
   ]
  },
  {
   "cell_type": "code",
   "execution_count": 1,
   "metadata": {},
   "outputs": [],
   "source": [
    "link = \"http://www.thespermwhale.com/jaseweston/babi/tasks_1-20_v1-2.tar.gz\""
   ]
  },
  {
   "cell_type": "markdown",
   "metadata": {},
   "source": [
    "### Data Format"
   ]
  },
  {
   "cell_type": "code",
   "execution_count": 2,
   "metadata": {},
   "outputs": [
    {
     "name": "stdout",
     "output_type": "stream",
     "text": [
      "[Flux] Initializing...\n"
     ]
    }
   ],
   "source": [
    "from flux.backend.data import maybe_download_and_store_tar\n",
    "from flux.util.download import maybe_download\n",
    "from flux.util.system import untar"
   ]
  },
  {
   "cell_type": "code",
   "execution_count": 3,
   "metadata": {},
   "outputs": [
    {
     "name": "stderr",
     "output_type": "stream",
     "text": [
      "\r",
      "0.00B [00:00, ?B/s]"
     ]
    },
    {
     "name": "stdout",
     "output_type": "stream",
     "text": [
      "[Flux] Downloading tasks_1-20_v1-2.tar.gz from http://www.thespermwhale.com/jaseweston/babi/tasks_1-20_v1-2.tar.gz, please wait...\n"
     ]
    },
    {
     "name": "stderr",
     "output_type": "stream",
     "text": [
      "15.7MB [00:12, 1.28MB/s]                            \n"
     ]
    },
    {
     "name": "stdout",
     "output_type": "stream",
     "text": [
      "[Flux] Successfully downloaded tasks_1-20_v1-2.tar.gz (15719851 bytes).\n",
      "[Flux] Decompressing: /home/karen/.dbflux/work/tasks_1-20_v1-2.tar.gz\n"
     ]
    }
   ],
   "source": [
    "keys = maybe_download_and_store_tar(url=link, root_key=\"bAbI-20\")"
   ]
  },
  {
   "cell_type": "code",
   "execution_count": 7,
   "metadata": {},
   "outputs": [],
   "source": [
    "# list of bAbI tasks\n",
    "task_root = \"tasks_1-20_v1-2\"\n",
    "subset = 'en'\n",
    "task_list = [\n",
    "    'qa1_single-supporting-fact',\n",
    "    'qa2_two-supporting-facts',\n",
    "    'qa3_three-supporting-facts',\n",
    "    'qa4_two-arg-relations',\n",
    "    'qa5_three-arg-relations',\n",
    "    'qa6_yes-no-questions',\n",
    "    'qa7_counting',\n",
    "    'qa8_lists-sets',\n",
    "    'qa9_simple-negation',\n",
    "    'qa10_indefinite-knowledge',\n",
    "    'qa11_basic-coreference',\n",
    "    'qa12_conjunction',\n",
    "    'qa13_compound-coreference',\n",
    "    'qa14_time-reasoning',\n",
    "    'qa15_basic-deduction',\n",
    "    'qa16_basic-induction',\n",
    "    'qa17_positional-reasoning',\n",
    "    'qa18_size-reasoning',\n",
    "    'qa19_path-finding',\n",
    "    'qa20_agents-motivations',\n",
    "]"
   ]
  },
  {
   "cell_type": "code",
   "execution_count": 27,
   "metadata": {},
   "outputs": [],
   "source": [
    "# Format task_root/subset/task\n",
    "\n",
    "task_path = \"%s/%s/%s\" % (task_root, subset, task_list[0])"
   ]
  },
  {
   "cell_type": "code",
   "execution_count": 29,
   "metadata": {},
   "outputs": [],
   "source": [
    "from flux.backend.globals import DATA_STORE\n"
   ]
  },
  {
   "cell_type": "code",
   "execution_count": 33,
   "metadata": {},
   "outputs": [],
   "source": [
    "def read_file_from_db(is_train, task_key):\n",
    "    task_path = task_key + \"_train\" if is_train else task_key + \"_test\"\n",
    "    print(task_path in keys)\n",
    "    return DATA_STORE.get_file(task_path)\n",
    "\n"
   ]
  },
  {
   "cell_type": "code",
   "execution_count": 34,
   "metadata": {},
   "outputs": [
    {
     "name": "stdout",
     "output_type": "stream",
     "text": [
      "True\n"
     ]
    }
   ],
   "source": [
    "\n",
    "data = read_file_from_db(True, task_path)"
   ]
  },
  {
   "cell_type": "code",
   "execution_count": 35,
   "metadata": {},
   "outputs": [
    {
     "name": "stdout",
     "output_type": "stream",
     "text": [
      "None\n"
     ]
    }
   ],
   "source": [
    "print(data)"
   ]
  }
 ],
 "metadata": {
  "kernelspec": {
   "display_name": "Python 3",
   "language": "python",
   "name": "python3"
  },
  "language_info": {
   "codemirror_mode": {
    "name": "ipython",
    "version": 3
   },
   "file_extension": ".py",
   "mimetype": "text/x-python",
   "name": "python",
   "nbconvert_exporter": "python",
   "pygments_lexer": "ipython3",
   "version": "3.6.4"
  }
 },
 "nbformat": 4,
 "nbformat_minor": 2
}
