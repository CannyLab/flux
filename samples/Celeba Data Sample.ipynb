{
 "cells": [
  {
   "cell_type": "code",
   "execution_count": 1,
   "metadata": {},
   "outputs": [],
   "source": [
    "link = \"https://www.kaggle.com/jessicali9530/celeba-dataset/downloads/img_align_celeba.zip\""
   ]
  },
  {
   "cell_type": "code",
   "execution_count": 2,
   "metadata": {},
   "outputs": [
    {
     "name": "stdout",
     "output_type": "stream",
     "text": [
      "[Flux] Initializing...\n"
     ]
    }
   ],
   "source": [
    "from flux.backend.data import maybe_download_and_store_google_drive\n",
    "from flux.backend.globals import DATA_STORE\n",
    "from flux.util.download import maybe_download, maybe_download_google_drive\n"
   ]
  },
  {
   "cell_type": "code",
   "execution_count": 3,
   "metadata": {},
   "outputs": [],
   "source": [
    "# from pydrive.auth import GoogleAuth\n",
    "# def maybe_download_google_drive(file_id:str, file_destination:str) -> str:\n",
    "#     gauth = GoogleAuth()\n",
    "#     gauth.LocalWebserverAuth()\n",
    "#     drive = GoogleDrive(gauth)   \n",
    "#     file_obj = drive.CreateFile({'id': file_id})\n",
    "#     file_obj.GetContentFile(file_destination) \n",
    "#     return file_destination"
   ]
  },
  {
   "cell_type": "code",
   "execution_count": null,
   "metadata": {},
   "outputs": [
    {
     "name": "stdout",
     "output_type": "stream",
     "text": [
      "[Flux] Decompressing: /home/karen/.flux/work/img_align_celeba.zip\n"
     ]
    }
   ],
   "source": [
    "file_pair2 = {\"img_align_celeba.zip\":\"0B7EVK8r0v71pZjFTYXZWM3FlRnM\",\n",
    "                     \"list_attr_celeba.txt\":\"0B7EVK8r0v71pblRyaVFSWGxPY0U\"}\n",
    "\n",
    "maybe_download_and_store_google_drive(file_pair2, \"\", \"\")"
   ]
  },
  {
   "cell_type": "code",
   "execution_count": null,
   "metadata": {},
   "outputs": [],
   "source": [
    "import argparse\n",
    "import os\n",
    "def download_celeb_a(dirpath):\n",
    "    data_dir = 'celebA'\n",
    "    celebA_dir = os.path.join(dirpath, data_dir)\n",
    "    prepare_data_dir(celebA_dir)\n",
    "\n",
    "    file_name, drive_id = \"img_align_celeba.zip\", \"0B7EVK8r0v71pZjFTYXZWM3FlRnM\"\n",
    "    txt_name, txt_drive_id = \"list_attr_celeba.txt\", \"0B7EVK8r0v71pblRyaVFSWGxPY0U\"\n",
    "\n",
    "    save_path = os.path.join(dirpath, file_name)\n",
    "    txt_save_path = os.path.join(celebA_dir, txt_name)\n",
    "\n",
    "    if os.path.exists(txt_save_path):\n",
    "        print('[*] {} already exists'.format(txt_save_path))\n",
    "    else:\n",
    "        download_file_from_google_drive(drive_id, txt_save_path)\n",
    "\n",
    "    if os.path.exists(save_path):\n",
    "        print('[*] {} already exists'.format(save_path))\n",
    "    else:\n",
    "        download_file_from_google_drive(drive_id, save_path)\n",
    "\n",
    "    with zipfile.ZipFile(save_path) as zf:\n",
    "        zf.extractall(celebA_dir)\n",
    "\n",
    "    # os.remove(save_path)\n",
    "    os.rename(os.path.join(celebA_dir, 'img_align_celeba'), os.path.join(celebA_dir, 'train'))\n",
    "\n",
    "    custom_data_dir = os.path.join(celebA_dir, 'test')\n",
    "    prepare_data_dir(custom_data_dir)\n",
    "\n",
    "\n",
    "def prepare_data_dir(path='./dataset'):\n",
    "    if not os.path.exists(path):\n",
    "        os.makedirs(path)\n",
    "\n",
    "\n"
   ]
  },
  {
   "cell_type": "code",
   "execution_count": null,
   "metadata": {},
   "outputs": [],
   "source": [
    "download_celeb_a('./dataset')\n"
   ]
  }
 ],
 "metadata": {
  "kernelspec": {
   "display_name": "Python 3",
   "language": "python",
   "name": "python3"
  },
  "language_info": {
   "codemirror_mode": {
    "name": "ipython",
    "version": 3
   },
   "file_extension": ".py",
   "mimetype": "text/x-python",
   "name": "python",
   "nbconvert_exporter": "python",
   "pygments_lexer": "ipython3",
   "version": "3.6.4"
  }
 },
 "nbformat": 4,
 "nbformat_minor": 2
}
