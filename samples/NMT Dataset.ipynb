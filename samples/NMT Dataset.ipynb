{
 "cells": [
  {
   "cell_type": "code",
   "execution_count": null,
   "metadata": {},
   "outputs": [],
   "source": [
    "from flux.datasets.nlp.nmt import NMT\n",
    "import tensorflow as tf\n",
    "tf.enable_eager_execution()"
   ]
  },
  {
   "cell_type": "code",
   "execution_count": null,
   "metadata": {},
   "outputs": [],
   "source": [
    "test = NMT(\"en-vi\", force_rebuild=True)"
   ]
  },
  {
   "cell_type": "code",
   "execution_count": null,
   "metadata": {},
   "outputs": [],
   "source": [
    "it = tf.contrib.eager.Iterator(test.train_db.shuffle(1024))\n",
    "src_dict = test.src_dictionary.word_dictionary_rev\n",
    "dst_dict = test.dst_dictionary.word_dictionary_rev\n",
    "for data in it:\n",
    "    src, dst, src_len, dst_len = data\n",
    "    src = src.numpy()\n",
    "    dst = dst.numpy()\n",
    "    src_sent = \" \".join([src_dict[c] for c in src])\n",
    "    print(src_sent)\n",
    "    print(\"-----------------\")\n",
    "    dst_sent = \" \".join([dst_dict[c] for c in dst])\n",
    "    print(dst_sent)\n",
    "    print(\"=================\")"
   ]
  }
 ],
 "metadata": {
  "kernelspec": {
   "display_name": "Python 3",
   "language": "python",
   "name": "python3"
  },
  "language_info": {
   "codemirror_mode": {
    "name": "ipython",
    "version": 3
   },
   "file_extension": ".py",
   "mimetype": "text/x-python",
   "name": "python",
   "nbconvert_exporter": "python",
   "pygments_lexer": "ipython3",
   "version": "3.6.4"
  }
 },
 "nbformat": 4,
 "nbformat_minor": 2
}
