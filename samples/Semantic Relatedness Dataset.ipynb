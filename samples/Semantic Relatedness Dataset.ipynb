{
 "cells": [
  {
   "cell_type": "markdown",
   "metadata": {},
   "source": [
    "# Semantic Relatedness Dataset"
   ]
  },
  {
   "cell_type": "code",
   "execution_count": 1,
   "metadata": {},
   "outputs": [],
   "source": [
    "import tensorflow as tf\n",
    "tf.enable_eager_execution()"
   ]
  },
  {
   "cell_type": "code",
   "execution_count": 2,
   "metadata": {},
   "outputs": [
    {
     "name": "stdout",
     "output_type": "stream",
     "text": [
      "[Flux] Initializing...\n"
     ]
    }
   ],
   "source": [
    "from flux.datasets.nlp.sick import SICK"
   ]
  },
  {
   "cell_type": "code",
   "execution_count": 3,
   "metadata": {},
   "outputs": [
    {
     "name": "stderr",
     "output_type": "stream",
     "text": [
      "\r",
      "0.00B [00:00, ?B/s]"
     ]
    },
    {
     "name": "stdout",
     "output_type": "stream",
     "text": [
      "[Flux] Building SICK...\n",
      "[Flux] Downloading SICK.zip from http://clic.cimec.unitn.it/composes/materials/SICK.zip, please wait...\n"
     ]
    },
    {
     "name": "stderr",
     "output_type": "stream",
     "text": [
      "221kB [00:02, 84.0kB/s]                            \n",
      "  1%|          | 68/9841 [00:00<00:14, 671.83it/s]"
     ]
    },
    {
     "name": "stdout",
     "output_type": "stream",
     "text": [
      "[Flux] Successfully downloaded SICK.zip (217584 bytes).\n",
      "[Flux] Decompressing: /home/karen/extern/.flux/work/SICK.zip\n",
      "[Flux] /home/karen/extern/.flux/work/SICK\n",
      "[Flux] Building dataset...\n"
     ]
    },
    {
     "name": "stderr",
     "output_type": "stream",
     "text": [
      "100%|█████████▉| 9840/9841 [00:07<00:00, 1268.21it/s]"
     ]
    },
    {
     "name": "stdout",
     "output_type": "stream",
     "text": [
      "[Flux] Saving dictionary to: /home/karen/extern/.flux/sick/dictionary/dict.pkl\n",
      "[Flux] Build Complete\n"
     ]
    },
    {
     "name": "stderr",
     "output_type": "stream",
     "text": [
      "\n"
     ]
    }
   ],
   "source": [
    "sick = SICK(force_rebuild=True)"
   ]
  },
  {
   "cell_type": "code",
   "execution_count": 22,
   "metadata": {},
   "outputs": [
    {
     "name": "stdout",
     "output_type": "stream",
     "text": [
      "Sentence A\tA group of kids is playing in a yard and an old man is standing in the background                      \n",
      "Sentence B\tA group of kids is playing in a yard and an old man is standing in the background                      \n",
      "Original A\tA group of children playing in a yard , a man in the background .                         \n",
      "Original B\tA group of children playing in a yard , a man in the background .                         \n",
      "================\n"
     ]
    }
   ],
   "source": [
    "it = tf.contrib.eager.Iterator(sick.train_db.shuffle(1))\n",
    "_dict = sick.dictionary.word_dictionary_rev\n",
    "for data in it:\n",
    "    sa, sb, oa, ob, lengths, label, ss = data\n",
    "    sa = sa.numpy()\n",
    "    sa_sent = \" \".join([_dict[c] for c in sa])\n",
    "    sb = sb.numpy()\n",
    "    sb_sent = \" \".join([_dict[c] for c in sb])\n",
    "    oa = oa.numpy()\n",
    "    oa_sent = \" \".join([_dict[c] for c in oa])\n",
    "    ob = ob.numpy()\n",
    "    ob_sent = \" \".join([_dict[c] for c in ob])\n",
    "    print(\"Sentence A\", end=\"\\t\")\n",
    "    print(sa_sent)\n",
    "    print(\"Sentence B\", end=\"\\t\")\n",
    "    print(sa_sent)\n",
    "    print(\"Original A\", end=\"\\t\")\n",
    "    print(oa_sent)\n",
    "    print(\"Original B\", end=\"\\t\")\n",
    "    print(ob_sent)\n",
    "    print(\"================\")\n",
    "    la, lb, loa, lob = lengths.numpy()\n",
    "    ab, ba, label = label.numpy()\n",
    "    ss = ss.numpy()\n",
    "    break"
   ]
  }
 ],
 "metadata": {
  "kernelspec": {
   "display_name": "Python 3",
   "language": "python",
   "name": "python3"
  },
  "language_info": {
   "codemirror_mode": {
    "name": "ipython",
    "version": 3
   },
   "file_extension": ".py",
   "mimetype": "text/x-python",
   "name": "python",
   "nbconvert_exporter": "python",
   "pygments_lexer": "ipython3",
   "version": "3.6.4"
  }
 },
 "nbformat": 4,
 "nbformat_minor": 2
}
